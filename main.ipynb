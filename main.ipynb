{
 "cells": [
  {
   "cell_type": "code",
   "execution_count": null,
   "metadata": {
    "collapsed": true,
    "pycharm": {
     "is_executing": false,
     "name": "#%%\n"
    }
   },
   "outputs": [],
   "source": [
    "import torch\n",
    "import torch.distributions as distributions\n",
    "import torch.nn as nn\n",
    "import torch.nn.functional as f\n",
    "import torchvision\n",
    "from torch.optim import Adam\n",
    "from torch.utils.data import SubsetRandomSampler, DataLoader\n",
    "from scipy import interpolate\n",
    "import numpy as np\n",
    "\n",
    "data = torchvision.datasets.MNIST(\".\", download=True, train=True)\n",
    "new_data = torchvision.datasets.MNIST(\".\", download=True, train=False, transform=None)\n",
    "\n",
    "use_cuda = torch.cuda.is_available()\n",
    "device = torch.device('cuda' if use_cuda else 'cpu')"
   ]
  },
  {
   "cell_type": "code",
   "execution_count": null,
   "outputs": [],
   "source": [
    "from matplotlib.pyplot import imshow\n",
    "images = []\n",
    "for i, (image, label) in enumerate(data):\n",
    "    if i > 5000:\n",
    "        break\n",
    "    image_mod = np.array(image) \n",
    "    image_x = 28\n",
    "    image_y = 28\n",
    "    hole_size_x = 10\n",
    "    hole_size_y = 10\n",
    "    x = np.zeros((image_x*image_y,))\n",
    "    y = np.zeros((image_x*image_y,))\n",
    "    z = np.zeros((image_x*image_y,))\n",
    "    counter = 0\n",
    "    for i, row in enumerate(image_mod):\n",
    "        for j, a in enumerate(row):\n",
    "            x[counter] = j\n",
    "            y[counter] = i\n",
    "            z[counter] = a\n",
    "            counter += 1    \n",
    "    imshow(image_mod)\n",
    "    img_center_x = image_x/2\n",
    "    img_center_y = image_y/2\n",
    "    hole_beg_x = img_center_x - hole_size_x/2\n",
    "    hole_end_x = img_center_x + hole_size_x/2\n",
    "    hole_beg_y = img_center_y - hole_size_y/2\n",
    "    hole_end_y = img_center_y + hole_size_y/2\n",
    "    mask = []\n",
    "    #remove center rectangle\n",
    "    for a in range(image_x*image_y):\n",
    "        if not hole_beg_x < x[a] < hole_end_x or not hole_beg_y < y[a] < hole_end_x:\n",
    "                mask.append(a)\n",
    "    x = x[mask]\n",
    "    y = y[mask]\n",
    "    z = z[mask]\n",
    "    # move points to fill hole\n",
    "    x_old = np.copy(x)\n",
    "    y_old = np.copy(y)\n",
    "    for a in range(len(x)):\n",
    "        if hole_beg_x <= x[a] <= hole_end_x or hole_beg_y <= y[a] <= hole_end_x:\n",
    "            if x[a] > y[a] and (image_x - x[a]) > y[a]:\n",
    "                y[a] *= (image_x - hole_size_x) / (image_x - abs(image_x - 2*x[a]))\n",
    "                if np.isinf(y[a]):\n",
    "                    print(a)\n",
    "            elif x[a] < y[a] and (image_x - x[a]) < y[a]:\n",
    "                x[a] *= (image_y - hole_size_y) / (image_y - abs(image_y - 2*y[a]))\n",
    "            elif x[a] > y[a] and (image_x - x[a]) < y[a]:\n",
    "                y[a] = (y[a] - image_y) * ((image_x - hole_size_x) / (image_x - abs(image_x - 2*x[a]))) + image_y\n",
    "                if np.isinf(y[a]):\n",
    "                    print(a)\n",
    "            elif x[a] < y[a] and (image_x - x[a]) > y[a]:\n",
    "                x[a] = (x[a] - image_x) * (image_y - hole_size_y) / (image_y - abs(image_y - 2*y[a])) + image_x\n",
    "    x_new = np.arange(0,28,1)\n",
    "    y_new = np.arange(0,28,1)\n",
    "    x_new, y_new = np.meshgrid(x_new, y_new)\n",
    "    z_new = interpolate.griddata((x, y), z, (x_new, y_new), method='linear')\n",
    "    x_2 = interpolate.griddata((x, y), x_old, (x_new, y_new), method='linear')\n",
    "    y_2 = interpolate.griddata((x, y), y_old, (x_new, y_new), method='linear')\n",
    "    z_new[z_new<0]=0\n",
    "    images.append(torch.from_numpy(np.stack([z_new, x_2, y_2])))"
   ],
   "metadata": {
    "collapsed": false,
    "pycharm": {
     "name": "#%%\n",
     "is_executing": false
    }
   }
  },
  {
   "cell_type": "code",
   "execution_count": null,
   "outputs": [],
   "source": [
    "batch_size: int = 20\n",
    "epoch: int = 10\n",
    "lr: float = 0.01\n",
    "test_split: float = 0.2\n",
    "\n",
    "random_seed: int = 10\n",
    "shuffle_dataset: bool = True\n",
    "\n",
    "dataset_size: int = len(images)\n",
    "indices: list = list(range(dataset_size))\n",
    "split: int = int(np.floor(test_split * dataset_size))\n",
    "if shuffle_dataset:\n",
    "    np.random.seed(random_seed)\n",
    "    np.random.shuffle(indices)\n",
    "train_indices, test_indices = indices[split:], indices[:split]\n",
    "\n",
    "train_sampler: SubsetRandomSampler = SubsetRandomSampler(train_indices)\n",
    "test_sampler: SubsetRandomSampler = SubsetRandomSampler(test_indices)\n",
    "\n",
    "train_loader: DataLoader = DataLoader(images, batch_size=batch_size, sampler=train_sampler)\n",
    "test_loader: DataLoader = DataLoader(images, batch_size=batch_size, sampler=test_sampler)"
   ],
   "metadata": {
    "collapsed": false,
    "pycharm": {
     "name": "#%%\n",
     "is_executing": false
    }
   }
  },
  {
   "cell_type": "code",
   "execution_count": null,
   "outputs": [],
   "source": [
    "k = 3\n",
    "l = 1\n",
    "n = 10*10\n",
    "\n",
    "class Network(torch.nn.Module):\n",
    "    def __init__(self):\n",
    "        super(Network, self).__init__()\n",
    "        self.conv1 = nn.Conv2d(3, 30, kernel_size=5)\n",
    "        self.conv2 = nn.Conv2d(30, 60, kernel_size=5)\n",
    "        # self.conv3 = nn.Conv2d(60, 90, kernel_size=5)\n",
    "        self.linear1 = nn.Linear(320*3, 1256)\n",
    "        self.linear2 = nn.Linear(1256, k + k * n + n * l * k + k * n)\n",
    "\n",
    "    def forward(self, x: torch.Tensor):\n",
    "        x = f.relu(f.max_pool2d(self.conv1(x), kernel_size=2))\n",
    "        x = f.relu(f.max_pool2d(self.conv2(x), kernel_size=2))\n",
    "        # x = f.relu(f.max_pool2d(self.conv3(x), kernel_size=2))\n",
    "        x = x.view(-1, 320*3)\n",
    "        x = f.relu(self.linear1(x))\n",
    "        return self.linear2(x)\n",
    "\n",
    "\n",
    "model: Network = Network().double()\n",
    "optimizer = Adam(model.parameters(), lr)"
   ],
   "metadata": {
    "collapsed": false,
    "pycharm": {
     "name": "#%%\n",
     "is_executing": false
    }
   }
  },
  {
   "cell_type": "code",
   "execution_count": null,
   "outputs": [],
   "source": [
    "epoch = 30\n",
    "model = model.to('cpu')\n",
    "def loss_function(x: torch.Tensor, input):\n",
    "    x = x.view((len(input), -1))\n",
    "    sum = torch.tensor(0).double().to(device)\n",
    "    sum.requires_grad = True\n",
    "    for i in range(len(input)):\n",
    "        p:torch.Tensor = x[i][:k]\n",
    "        p_tuple = torch.split(p, 1, 0)\n",
    "        m:torch.Tensor = x[i][k:k+k*n].view(-1, k)\n",
    "        m_tuple = torch.split(m, 1, 1)\n",
    "        A:torch.Tensor = x[i][k+k*n:k+k*n+n*l*k].view(-1, l, k)\n",
    "        A_tuple = torch.split(A, 1, 2)\n",
    "        d:torch.Tensor = x[i][k+k*n+n*l*k:].view(-1,k)\n",
    "        d_tuple = torch.split(d, 1, 1)\n",
    "        dists = []\n",
    "        for p, m, A, d in zip(p_tuple, m_tuple, A_tuple, d_tuple):\n",
    "            dists.append((p, distributions.lowrank_multivariate_normal.LowRankMultivariateNormal(m.view(-1), A.view(n*l, l), torch.abs(d).view(-1))))\n",
    "        for p, dist in dists:\n",
    "            sum.add(-p.log().add(-dist.log_prob(input[i][0][9:19,9:19].contiguous().view(-1))))\n",
    "    return sum\n",
    "\n",
    "for e in range(epoch):\n",
    "    for i, x in enumerate(train_loader):\n",
    "        optimizer.zero_grad()\n",
    "        result = model(x.double())\n",
    "        loss = loss_function(result, x)\n",
    "        loss.backward()\n",
    "    print(\"Epoch {} completed\".format(e))\n",
    "\n"
   ],
   "metadata": {
    "collapsed": false,
    "pycharm": {
     "name": "#%%\n",
     "is_executing": false
    }
   }
  }
 ],
 "metadata": {
  "kernelspec": {
   "display_name": "Python 3",
   "language": "python",
   "name": "python3"
  },
  "language_info": {
   "codemirror_mode": {
    "name": "ipython",
    "version": 2
   },
   "file_extension": ".py",
   "mimetype": "text/x-python",
   "name": "python",
   "nbconvert_exporter": "python",
   "pygments_lexer": "ipython2",
   "version": "2.7.6"
  },
  "pycharm": {
   "stem_cell": {
    "cell_type": "raw",
    "source": [],
    "metadata": {
     "collapsed": false
    }
   }
  }
 },
 "nbformat": 4,
 "nbformat_minor": 0
}